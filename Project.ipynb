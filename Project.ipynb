{
 "cells": [
  {
   "cell_type": "markdown",
   "id": "63ee7847",
   "metadata": {},
   "source": [
    "# NLP Assignment Notebook\n",
    "\n",
    "## Problem Statement\n",
    "We are given two objective for this assignmetn \n",
    "1. Get the most frequent entities from the tweets\n",
    "2. Find polarity/sentiment of each author towards entities\n",
    "\n",
    "## Getting Data\n",
    "The Data is provided in as tweets.json file consisting of nested dictionary. Keys of which are the tweet ID and inner dictionary contain author name and the tweet he made\n",
    "\n",
    "Before Starting to work on the objective of the project we need to clean the tweets. Which is the first step"
   ]
  },
  {
   "cell_type": "code",
   "execution_count": 1,
   "id": "7a84cc6c",
   "metadata": {},
   "outputs": [],
   "source": [
    "### This cell contains all the tools we will be using for this project\n",
    "import pandas as pd\n",
    "import numpy as np\n",
    "import re\n",
    "import string\n",
    "\n",
    "import spacy"
   ]
  },
  {
   "cell_type": "markdown",
   "id": "bb3e9381",
   "metadata": {},
   "source": [
    "## Importing Data"
   ]
  },
  {
   "cell_type": "code",
   "execution_count": 2,
   "id": "cfae7b0e",
   "metadata": {},
   "outputs": [],
   "source": [
    "### Reading the the json file containing tweets\n",
    "df = pd.read_json('./tweets.json')"
   ]
  },
  {
   "cell_type": "code",
   "execution_count": 3,
   "id": "861e785a",
   "metadata": {},
   "outputs": [
    {
     "data": {
      "text/html": [
       "<div>\n",
       "<style scoped>\n",
       "    .dataframe tbody tr th:only-of-type {\n",
       "        vertical-align: middle;\n",
       "    }\n",
       "\n",
       "    .dataframe tbody tr th {\n",
       "        vertical-align: top;\n",
       "    }\n",
       "\n",
       "    .dataframe thead th {\n",
       "        text-align: right;\n",
       "    }\n",
       "</style>\n",
       "<table border=\"1\" class=\"dataframe\">\n",
       "  <thead>\n",
       "    <tr style=\"text-align: right;\">\n",
       "      <th></th>\n",
       "      <th>2013-07-18 09:39:46.071961602</th>\n",
       "      <th>2013-07-17 03:40:32.173842437</th>\n",
       "      <th>2013-07-15 15:41:16.553048065</th>\n",
       "      <th>2013-07-12 19:19:42.367813635</th>\n",
       "      <th>2013-07-04 12:40:34.334232586</th>\n",
       "      <th>2013-07-04 08:44:42.278539265</th>\n",
       "      <th>2013-07-04 04:22:03.305394179</th>\n",
       "      <th>2013-07-03 21:48:41.159868423</th>\n",
       "      <th>2013-07-03 15:55:15.081797632</th>\n",
       "      <th>2013-07-03 04:25:53.837944834</th>\n",
       "      <th>...</th>\n",
       "      <th>1987-06-22 19:36:28.372967425</th>\n",
       "      <th>1987-06-22 13:38:05.220745216</th>\n",
       "      <th>1987-06-20 01:14:46.517178368</th>\n",
       "      <th>1987-06-19 13:30:22.587748353</th>\n",
       "      <th>1987-06-19 13:03:48.404117505</th>\n",
       "      <th>1987-06-19 12:17:53.643945985</th>\n",
       "      <th>1987-06-19 12:06:26.675290112</th>\n",
       "      <th>1987-06-17 23:05:41.186953217</th>\n",
       "      <th>1987-06-17 15:18:00.525635584</th>\n",
       "      <th>1987-06-13 10:44:06.537678849</th>\n",
       "    </tr>\n",
       "  </thead>\n",
       "  <tbody>\n",
       "    <tr>\n",
       "      <th>tweet_author</th>\n",
       "      <td>Hematopoiesis News</td>\n",
       "      <td>Michael Wang, MD</td>\n",
       "      <td>1stOncology</td>\n",
       "      <td>Toby Eyre</td>\n",
       "      <td>Lymphoma Hub</td>\n",
       "      <td>David Ledger</td>\n",
       "      <td>N Wales Cancer Forum</td>\n",
       "      <td>European Pharmaceutical Review</td>\n",
       "      <td>Graham Collins</td>\n",
       "      <td>CLL Ireland</td>\n",
       "      <td>...</td>\n",
       "      <td>C A R E N</td>\n",
       "      <td>Werneth Cricket</td>\n",
       "      <td>John P. Leonard, MD</td>\n",
       "      <td>Joy is a Lifestyle</td>\n",
       "      <td>Micheál 🇮🇪</td>\n",
       "      <td>Joy is a Lifestyle</td>\n",
       "      <td>𝓒𝓻𝓲𝔃𝔃𝔂 𝓟𝓮𝓻𝓻𝔂🌹</td>\n",
       "      <td>IQWiG</td>\n",
       "      <td>Medibooks</td>\n",
       "      <td>Medibooks</td>\n",
       "    </tr>\n",
       "    <tr>\n",
       "      <th>tweet_text</th>\n",
       "      <td>⚕️ Scientists conducted a Phase II study of ac...</td>\n",
       "      <td>This phase 2 Acalabrutinib-Venetoclax (AV) tri...</td>\n",
       "      <td>#NICE backs #AstraZenecas #Calquence for #CLL ...</td>\n",
       "      <td>#acalabrutinib is a valuable option in pts int...</td>\n",
       "      <td>NICE has recommended the use of acalabrutinib ...</td>\n",
       "      <td>NICE backs AstraZeneca’s Calquence for CLL htt...</td>\n",
       "      <td>This is England for now - these decisions usua...</td>\n",
       "      <td>AstraZeneca’s Calquence (acalabrutinib), a che...</td>\n",
       "      <td>Superstar @tobyeyre82 responding to the excell...</td>\n",
       "      <td>CLL patients all know the drug Ibrutinib and y...</td>\n",
       "      <td>...</td>\n",
       "      <td>I miss them! 😋😆😅\\n\\n#FotoRus #FriendshipForeve...</td>\n",
       "      <td>The fixtures are out, first team will travel t...</td>\n",
       "      <td>Partnering @GileadSciences &amp;amp;Ono BTKi-combo...</td>\n",
       "      <td>Hanging out with Friends! :) #FF #CLL #Happine...</td>\n",
       "      <td>What I'd do to go to Gerrard's last game at An...</td>\n",
       "      <td>Hanging out with Friends! :) #FF #CLL #Happine...</td>\n",
       "      <td>Hanging out with Friends! :) #FF #CLL #Happine...</td>\n",
       "      <td>Zusatznutzen von #Idelalisib ist weder für #CL...</td>\n",
       "      <td>#Hematología PTK2 EXPRESSION AND IMMUNOCHEMOTH...</td>\n",
       "      <td>#Hematología MUTATIONS IN TLR/MYD88 PATHWAY ID...</td>\n",
       "    </tr>\n",
       "  </tbody>\n",
       "</table>\n",
       "<p>2 rows × 43347 columns</p>\n",
       "</div>"
      ],
      "text/plain": [
       "                                  2013-07-18 09:39:46.071961602  \\\n",
       "tweet_author                                 Hematopoiesis News   \n",
       "tweet_text    ⚕️ Scientists conducted a Phase II study of ac...   \n",
       "\n",
       "                                  2013-07-17 03:40:32.173842437  \\\n",
       "tweet_author                                   Michael Wang, MD   \n",
       "tweet_text    This phase 2 Acalabrutinib-Venetoclax (AV) tri...   \n",
       "\n",
       "                                  2013-07-15 15:41:16.553048065  \\\n",
       "tweet_author                                        1stOncology   \n",
       "tweet_text    #NICE backs #AstraZenecas #Calquence for #CLL ...   \n",
       "\n",
       "                                  2013-07-12 19:19:42.367813635  \\\n",
       "tweet_author                                          Toby Eyre   \n",
       "tweet_text    #acalabrutinib is a valuable option in pts int...   \n",
       "\n",
       "                                  2013-07-04 12:40:34.334232586  \\\n",
       "tweet_author                                       Lymphoma Hub   \n",
       "tweet_text    NICE has recommended the use of acalabrutinib ...   \n",
       "\n",
       "                                  2013-07-04 08:44:42.278539265  \\\n",
       "tweet_author                                       David Ledger   \n",
       "tweet_text    NICE backs AstraZeneca’s Calquence for CLL htt...   \n",
       "\n",
       "                                  2013-07-04 04:22:03.305394179  \\\n",
       "tweet_author                               N Wales Cancer Forum   \n",
       "tweet_text    This is England for now - these decisions usua...   \n",
       "\n",
       "                                  2013-07-03 21:48:41.159868423  \\\n",
       "tweet_author                     European Pharmaceutical Review   \n",
       "tweet_text    AstraZeneca’s Calquence (acalabrutinib), a che...   \n",
       "\n",
       "                                  2013-07-03 15:55:15.081797632  \\\n",
       "tweet_author                                     Graham Collins   \n",
       "tweet_text    Superstar @tobyeyre82 responding to the excell...   \n",
       "\n",
       "                                  2013-07-03 04:25:53.837944834  ...  \\\n",
       "tweet_author                                        CLL Ireland  ...   \n",
       "tweet_text    CLL patients all know the drug Ibrutinib and y...  ...   \n",
       "\n",
       "                                  1987-06-22 19:36:28.372967425  \\\n",
       "tweet_author                                          C A R E N   \n",
       "tweet_text    I miss them! 😋😆😅\\n\\n#FotoRus #FriendshipForeve...   \n",
       "\n",
       "                                  1987-06-22 13:38:05.220745216  \\\n",
       "tweet_author                                    Werneth Cricket   \n",
       "tweet_text    The fixtures are out, first team will travel t...   \n",
       "\n",
       "                                  1987-06-20 01:14:46.517178368  \\\n",
       "tweet_author                                John P. Leonard, MD   \n",
       "tweet_text    Partnering @GileadSciences &amp;Ono BTKi-combo...   \n",
       "\n",
       "                                  1987-06-19 13:30:22.587748353  \\\n",
       "tweet_author                                 Joy is a Lifestyle   \n",
       "tweet_text    Hanging out with Friends! :) #FF #CLL #Happine...   \n",
       "\n",
       "                                  1987-06-19 13:03:48.404117505  \\\n",
       "tweet_author                                         Micheál 🇮🇪   \n",
       "tweet_text    What I'd do to go to Gerrard's last game at An...   \n",
       "\n",
       "                                  1987-06-19 12:17:53.643945985  \\\n",
       "tweet_author                                 Joy is a Lifestyle   \n",
       "tweet_text    Hanging out with Friends! :) #FF #CLL #Happine...   \n",
       "\n",
       "                                  1987-06-19 12:06:26.675290112  \\\n",
       "tweet_author                                      𝓒𝓻𝓲𝔃𝔃𝔂 𝓟𝓮𝓻𝓻𝔂🌹   \n",
       "tweet_text    Hanging out with Friends! :) #FF #CLL #Happine...   \n",
       "\n",
       "                                  1987-06-17 23:05:41.186953217  \\\n",
       "tweet_author                                              IQWiG   \n",
       "tweet_text    Zusatznutzen von #Idelalisib ist weder für #CL...   \n",
       "\n",
       "                                  1987-06-17 15:18:00.525635584  \\\n",
       "tweet_author                                          Medibooks   \n",
       "tweet_text    #Hematología PTK2 EXPRESSION AND IMMUNOCHEMOTH...   \n",
       "\n",
       "                                  1987-06-13 10:44:06.537678849  \n",
       "tweet_author                                          Medibooks  \n",
       "tweet_text    #Hematología MUTATIONS IN TLR/MYD88 PATHWAY ID...  \n",
       "\n",
       "[2 rows x 43347 columns]"
      ]
     },
     "execution_count": 3,
     "metadata": {},
     "output_type": "execute_result"
    }
   ],
   "source": [
    "df.head()"
   ]
  },
  {
   "cell_type": "markdown",
   "id": "52b45202",
   "metadata": {},
   "source": [
    "The dataframe has tweet_author and tweet_text as rows. We could simply transpose the dataframe and reset the index from tweet_id to integers"
   ]
  },
  {
   "cell_type": "code",
   "execution_count": 4,
   "id": "357b59a7",
   "metadata": {},
   "outputs": [
    {
     "data": {
      "text/html": [
       "<div>\n",
       "<style scoped>\n",
       "    .dataframe tbody tr th:only-of-type {\n",
       "        vertical-align: middle;\n",
       "    }\n",
       "\n",
       "    .dataframe tbody tr th {\n",
       "        vertical-align: top;\n",
       "    }\n",
       "\n",
       "    .dataframe thead th {\n",
       "        text-align: right;\n",
       "    }\n",
       "</style>\n",
       "<table border=\"1\" class=\"dataframe\">\n",
       "  <thead>\n",
       "    <tr style=\"text-align: right;\">\n",
       "      <th></th>\n",
       "      <th>tweet_author</th>\n",
       "      <th>tweet_text</th>\n",
       "    </tr>\n",
       "  </thead>\n",
       "  <tbody>\n",
       "    <tr>\n",
       "      <th>2013-07-18 09:39:46.071961602</th>\n",
       "      <td>Hematopoiesis News</td>\n",
       "      <td>⚕️ Scientists conducted a Phase II study of ac...</td>\n",
       "    </tr>\n",
       "    <tr>\n",
       "      <th>2013-07-17 03:40:32.173842437</th>\n",
       "      <td>Michael Wang, MD</td>\n",
       "      <td>This phase 2 Acalabrutinib-Venetoclax (AV) tri...</td>\n",
       "    </tr>\n",
       "    <tr>\n",
       "      <th>2013-07-15 15:41:16.553048065</th>\n",
       "      <td>1stOncology</td>\n",
       "      <td>#NICE backs #AstraZenecas #Calquence for #CLL ...</td>\n",
       "    </tr>\n",
       "    <tr>\n",
       "      <th>2013-07-12 19:19:42.367813635</th>\n",
       "      <td>Toby Eyre</td>\n",
       "      <td>#acalabrutinib is a valuable option in pts int...</td>\n",
       "    </tr>\n",
       "    <tr>\n",
       "      <th>2013-07-04 12:40:34.334232586</th>\n",
       "      <td>Lymphoma Hub</td>\n",
       "      <td>NICE has recommended the use of acalabrutinib ...</td>\n",
       "    </tr>\n",
       "  </tbody>\n",
       "</table>\n",
       "</div>"
      ],
      "text/plain": [
       "                                     tweet_author  \\\n",
       "2013-07-18 09:39:46.071961602  Hematopoiesis News   \n",
       "2013-07-17 03:40:32.173842437    Michael Wang, MD   \n",
       "2013-07-15 15:41:16.553048065         1stOncology   \n",
       "2013-07-12 19:19:42.367813635           Toby Eyre   \n",
       "2013-07-04 12:40:34.334232586        Lymphoma Hub   \n",
       "\n",
       "                                                                      tweet_text  \n",
       "2013-07-18 09:39:46.071961602  ⚕️ Scientists conducted a Phase II study of ac...  \n",
       "2013-07-17 03:40:32.173842437  This phase 2 Acalabrutinib-Venetoclax (AV) tri...  \n",
       "2013-07-15 15:41:16.553048065  #NICE backs #AstraZenecas #Calquence for #CLL ...  \n",
       "2013-07-12 19:19:42.367813635  #acalabrutinib is a valuable option in pts int...  \n",
       "2013-07-04 12:40:34.334232586  NICE has recommended the use of acalabrutinib ...  "
      ]
     },
     "execution_count": 4,
     "metadata": {},
     "output_type": "execute_result"
    }
   ],
   "source": [
    "# Transposing the data frame to get the required columns\n",
    "df_trans = df.T\n",
    "df_trans.head()"
   ]
  },
  {
   "cell_type": "code",
   "execution_count": 5,
   "id": "1924af08",
   "metadata": {},
   "outputs": [],
   "source": [
    "### Changing index from timestamp to numbers\n",
    "idx = np.array(range(len(df_trans))) ### array of numbers equal to length of dataframe \n",
    "tweet_df = df_trans.set_index(idx)"
   ]
  },
  {
   "cell_type": "code",
   "execution_count": 6,
   "id": "6a212dc8",
   "metadata": {},
   "outputs": [
    {
     "data": {
      "text/html": [
       "<div>\n",
       "<style scoped>\n",
       "    .dataframe tbody tr th:only-of-type {\n",
       "        vertical-align: middle;\n",
       "    }\n",
       "\n",
       "    .dataframe tbody tr th {\n",
       "        vertical-align: top;\n",
       "    }\n",
       "\n",
       "    .dataframe thead th {\n",
       "        text-align: right;\n",
       "    }\n",
       "</style>\n",
       "<table border=\"1\" class=\"dataframe\">\n",
       "  <thead>\n",
       "    <tr style=\"text-align: right;\">\n",
       "      <th></th>\n",
       "      <th>tweet_author</th>\n",
       "      <th>tweet_text</th>\n",
       "    </tr>\n",
       "  </thead>\n",
       "  <tbody>\n",
       "    <tr>\n",
       "      <th>0</th>\n",
       "      <td>Hematopoiesis News</td>\n",
       "      <td>⚕️ Scientists conducted a Phase II study of ac...</td>\n",
       "    </tr>\n",
       "    <tr>\n",
       "      <th>1</th>\n",
       "      <td>Michael Wang, MD</td>\n",
       "      <td>This phase 2 Acalabrutinib-Venetoclax (AV) tri...</td>\n",
       "    </tr>\n",
       "    <tr>\n",
       "      <th>2</th>\n",
       "      <td>1stOncology</td>\n",
       "      <td>#NICE backs #AstraZenecas #Calquence for #CLL ...</td>\n",
       "    </tr>\n",
       "    <tr>\n",
       "      <th>3</th>\n",
       "      <td>Toby Eyre</td>\n",
       "      <td>#acalabrutinib is a valuable option in pts int...</td>\n",
       "    </tr>\n",
       "    <tr>\n",
       "      <th>4</th>\n",
       "      <td>Lymphoma Hub</td>\n",
       "      <td>NICE has recommended the use of acalabrutinib ...</td>\n",
       "    </tr>\n",
       "  </tbody>\n",
       "</table>\n",
       "</div>"
      ],
      "text/plain": [
       "         tweet_author                                         tweet_text\n",
       "0  Hematopoiesis News  ⚕️ Scientists conducted a Phase II study of ac...\n",
       "1    Michael Wang, MD  This phase 2 Acalabrutinib-Venetoclax (AV) tri...\n",
       "2         1stOncology  #NICE backs #AstraZenecas #Calquence for #CLL ...\n",
       "3           Toby Eyre  #acalabrutinib is a valuable option in pts int...\n",
       "4        Lymphoma Hub  NICE has recommended the use of acalabrutinib ..."
      ]
     },
     "execution_count": 6,
     "metadata": {},
     "output_type": "execute_result"
    }
   ],
   "source": [
    "### Final df\n",
    "tweet_df.head()"
   ]
  },
  {
   "cell_type": "code",
   "execution_count": 12,
   "id": "bdb62de8",
   "metadata": {
    "scrolled": true
   },
   "outputs": [
    {
     "name": "stdout",
     "output_type": "stream",
     "text": [
      "<class 'pandas.core.frame.DataFrame'>\n",
      "Int64Index: 43347 entries, 0 to 43346\n",
      "Data columns (total 2 columns):\n",
      " #   Column        Non-Null Count  Dtype \n",
      "---  ------        --------------  ----- \n",
      " 0   tweet_author  43347 non-null  object\n",
      " 1   tweet_text    43347 non-null  object\n",
      "dtypes: object(2)\n",
      "memory usage: 1015.9+ KB\n"
     ]
    }
   ],
   "source": [
    "tweet_df.info()"
   ]
  },
  {
   "cell_type": "markdown",
   "id": "f1fd48a8",
   "metadata": {},
   "source": [
    "## Exploring and Cleaning Tweets"
   ]
  },
  {
   "cell_type": "code",
   "execution_count": 7,
   "id": "31f8477f",
   "metadata": {},
   "outputs": [
    {
     "data": {
      "text/plain": [
       "9292"
      ]
     },
     "execution_count": 7,
     "metadata": {},
     "output_type": "execute_result"
    }
   ],
   "source": [
    "### Counting total number of unique authors\n",
    "tweet_df['tweet_author'].nunique()"
   ]
  },
  {
   "cell_type": "code",
   "execution_count": 8,
   "id": "88d92d8a",
   "metadata": {},
   "outputs": [
    {
     "data": {
      "text/plain": [
       "41776"
      ]
     },
     "execution_count": 8,
     "metadata": {},
     "output_type": "execute_result"
    }
   ],
   "source": [
    "### Counting total number of unique authors\n",
    "tweet_df['tweet_text'].nunique()"
   ]
  },
  {
   "cell_type": "markdown",
   "id": "3d33f97e",
   "metadata": {},
   "source": [
    "We can see here that the unique number of tweets are less than the total tweets present in the data. Let's make sure there is no repeated instance in our data frame to get more accurate measure of frequency and polarity."
   ]
  },
  {
   "cell_type": "code",
   "execution_count": 9,
   "id": "9c3ab3c9",
   "metadata": {},
   "outputs": [
    {
     "data": {
      "text/plain": [
       "False    41818\n",
       "True      1529\n",
       "dtype: int64"
      ]
     },
     "execution_count": 9,
     "metadata": {},
     "output_type": "execute_result"
    }
   ],
   "source": [
    "### Counting duplicate rows in the dataframe\n",
    "tweet_df.duplicated().value_counts()"
   ]
  },
  {
   "cell_type": "markdown",
   "id": "b45c9806",
   "metadata": {},
   "source": [
    "We can see that there are around 1529 duplicate rows in the dataframe. We are going to drop these rows out of the dataframe to avoid redundancy of instances for our main objectives"
   ]
  },
  {
   "cell_type": "code",
   "execution_count": 12,
   "id": "eeb28756",
   "metadata": {},
   "outputs": [],
   "source": [
    "### Removing duplicate rows\n",
    "tweet_df.drop_duplicates(inplace=True)"
   ]
  },
  {
   "cell_type": "code",
   "execution_count": 13,
   "id": "f3ccbcb3",
   "metadata": {},
   "outputs": [
    {
     "name": "stdout",
     "output_type": "stream",
     "text": [
      "<class 'pandas.core.frame.DataFrame'>\n",
      "Int64Index: 41818 entries, 0 to 43346\n",
      "Data columns (total 2 columns):\n",
      " #   Column        Non-Null Count  Dtype \n",
      "---  ------        --------------  ----- \n",
      " 0   tweet_author  41818 non-null  object\n",
      " 1   tweet_text    41818 non-null  object\n",
      "dtypes: object(2)\n",
      "memory usage: 980.1+ KB\n"
     ]
    }
   ],
   "source": [
    "tweet_df.info()"
   ]
  },
  {
   "cell_type": "code",
   "execution_count": 16,
   "id": "0a439d28",
   "metadata": {},
   "outputs": [],
   "source": [
    "### We need to reset index\n",
    "tweet_df.reset_index(drop = True,inplace = True)"
   ]
  },
  {
   "cell_type": "code",
   "execution_count": 17,
   "id": "caf900e8",
   "metadata": {
    "scrolled": true
   },
   "outputs": [
    {
     "name": "stdout",
     "output_type": "stream",
     "text": [
      "<class 'pandas.core.frame.DataFrame'>\n",
      "RangeIndex: 41818 entries, 0 to 41817\n",
      "Data columns (total 2 columns):\n",
      " #   Column        Non-Null Count  Dtype \n",
      "---  ------        --------------  ----- \n",
      " 0   tweet_author  41818 non-null  object\n",
      " 1   tweet_text    41818 non-null  object\n",
      "dtypes: object(2)\n",
      "memory usage: 653.5+ KB\n"
     ]
    }
   ],
   "source": [
    "### Cross checking \n",
    "tweet_df.info()"
   ]
  },
  {
   "cell_type": "markdown",
   "id": "bdb92a0f",
   "metadata": {},
   "source": [
    "**Note:-** At this point I also tried to remove tweets which were not in english because I thought every language has different grammer rules and it would affect the accuracy of entity extraction which is based on grammer rules.\n",
    "However, I was unable to do so because I was unable to resolve the errors I received.\n",
    "\n",
    "I tried to use textblob and spacy to do so."
   ]
  },
  {
   "cell_type": "markdown",
   "id": "94355697",
   "metadata": {},
   "source": [
    "### Tweet Cleaning\n",
    "\n",
    "Now we need to clean our tweets to be able to process it \n",
    "\n",
    "We will be performing basic cleaning process by removing\n",
    " * Hashtags and mention\n",
    "   - We will be removing hastags and mentions because they contains names of people and abbrevation and often redundant with main text\n",
    " * Punctuation\n",
    " * Newline \n",
    " * Digits\n",
    " * emojis and symbols\n",
    " * Links and url\n",
    " \n",
    "I am mostly using regular expression for this step available I found at google\n",
    "\n",
    "**Note** - I was confused about removing hashtags whether to remove them or keep them as they could act as entities but I finally decided to drop them as they can be most of the time redundant with aim of main text and can contain lots of abbreviation."
   ]
  },
  {
   "cell_type": "code",
   "execution_count": 19,
   "id": "72aa3176",
   "metadata": {},
   "outputs": [],
   "source": [
    "### Defining emoji pattern to be removed\n",
    "emoji_pattern = re.compile(\"[\"\n",
    "        u\"\\U0001F600-\\U0001F64F\"  # emoticons\n",
    "        u\"\\U0001F300-\\U0001F5FF\"  # symbols & pictographs\n",
    "        u\"\\U0001F680-\\U0001F6FF\"  # transport & map symbols\n",
    "        u\"\\U0001F1E0-\\U0001F1FF\"  # flags (iOS)# symbols & pictographs\n",
    "        \"]+\", flags=re.UNICODE)\n",
    "\n",
    "def clean_tweets(txt):\n",
    "    ### Removing endline\n",
    "    txt = txt.replace('\\n','')\n",
    "    ### Removing digits from tweets\n",
    "    txt = re.sub(r\"\\d\", \"\", txt)\n",
    "    ### Removing mentions\n",
    "    txt = re.sub(\"@[A-Za-z0-9_]+\",\"\", txt)\n",
    "    ### Removing hashtags\n",
    "    txt = re.sub(\"#[A-Za-z0-9_]+\",\"\", txt)\n",
    "    ### removing puctuations from the tweet\n",
    "    no_punc = [char for char in txt if char not in string.punctuation]\n",
    "    txt = ''.join(no_punc) \n",
    "    ### Removing emojis\n",
    "    txt = emoji_pattern.sub(r'',txt)    \n",
    "    ### Removing links\n",
    "    txt = re.sub(r\"http\\S+\", '',txt, flags=re.MULTILINE)\n",
    "    return txt"
   ]
  },
  {
   "cell_type": "code",
   "execution_count": 22,
   "id": "6ff36a4c",
   "metadata": {},
   "outputs": [],
   "source": [
    "### Applying the clean tweet function to tweet_text column\n",
    "tweet_df['Clean_text'] = tweet_df['tweet_text'].apply(clean_tweets)"
   ]
  },
  {
   "cell_type": "code",
   "execution_count": 23,
   "id": "7039feb7",
   "metadata": {},
   "outputs": [
    {
     "data": {
      "text/plain": [
       "'This phase  AcalabrutinibVenetoclax AV trial that is still in recruitment phase will study how well venetoclax and acalabrutinib works in MCL patients who either relapsed or nonrespondent to the initial therapy'"
      ]
     },
     "execution_count": 23,
     "metadata": {},
     "output_type": "execute_result"
    }
   ],
   "source": [
    "tweet_df['Clean_text'][1]"
   ]
  },
  {
   "cell_type": "code",
   "execution_count": 24,
   "id": "cfadf7c8",
   "metadata": {},
   "outputs": [],
   "source": [
    "### Dropping Original tweet_text from the dataframe\n",
    "tweet_df.drop('tweet_text',axis = 1,inplace = True)"
   ]
  },
  {
   "cell_type": "code",
   "execution_count": 25,
   "id": "4dbc82f4",
   "metadata": {},
   "outputs": [
    {
     "data": {
      "text/html": [
       "<div>\n",
       "<style scoped>\n",
       "    .dataframe tbody tr th:only-of-type {\n",
       "        vertical-align: middle;\n",
       "    }\n",
       "\n",
       "    .dataframe tbody tr th {\n",
       "        vertical-align: top;\n",
       "    }\n",
       "\n",
       "    .dataframe thead th {\n",
       "        text-align: right;\n",
       "    }\n",
       "</style>\n",
       "<table border=\"1\" class=\"dataframe\">\n",
       "  <thead>\n",
       "    <tr style=\"text-align: right;\">\n",
       "      <th></th>\n",
       "      <th>tweet_author</th>\n",
       "      <th>Clean_text</th>\n",
       "    </tr>\n",
       "  </thead>\n",
       "  <tbody>\n",
       "    <tr>\n",
       "      <th>0</th>\n",
       "      <td>Hematopoiesis News</td>\n",
       "      <td>⚕️ Scientists conducted a Phase II study of ac...</td>\n",
       "    </tr>\n",
       "    <tr>\n",
       "      <th>1</th>\n",
       "      <td>Michael Wang, MD</td>\n",
       "      <td>This phase  AcalabrutinibVenetoclax AV trial t...</td>\n",
       "    </tr>\n",
       "    <tr>\n",
       "      <th>2</th>\n",
       "      <td>1stOncology</td>\n",
       "      <td>backs   for</td>\n",
       "    </tr>\n",
       "    <tr>\n",
       "      <th>3</th>\n",
       "      <td>Toby Eyre</td>\n",
       "      <td>is a valuable option in pts intolerant to  Fu...</td>\n",
       "    </tr>\n",
       "    <tr>\n",
       "      <th>4</th>\n",
       "      <td>Lymphoma Hub</td>\n",
       "      <td>NICE has recommended the use of acalabrutinib ...</td>\n",
       "    </tr>\n",
       "    <tr>\n",
       "      <th>5</th>\n",
       "      <td>David Ledger</td>\n",
       "      <td>NICE backs AstraZeneca’s Calquence for CLL</td>\n",
       "    </tr>\n",
       "    <tr>\n",
       "      <th>6</th>\n",
       "      <td>N Wales Cancer Forum</td>\n",
       "      <td>This is England for now  these decisions usual...</td>\n",
       "    </tr>\n",
       "    <tr>\n",
       "      <th>7</th>\n",
       "      <td>European Pharmaceutical Review</td>\n",
       "      <td>AstraZeneca’s Calquence acalabrutinib a chemot...</td>\n",
       "    </tr>\n",
       "    <tr>\n",
       "      <th>8</th>\n",
       "      <td>Graham Collins</td>\n",
       "      <td>Superstar  responding to the excellent news of...</td>\n",
       "    </tr>\n",
       "    <tr>\n",
       "      <th>9</th>\n",
       "      <td>CLL Ireland</td>\n",
       "      <td>CLL patients all know the drug Ibrutinib and y...</td>\n",
       "    </tr>\n",
       "  </tbody>\n",
       "</table>\n",
       "</div>"
      ],
      "text/plain": [
       "                     tweet_author  \\\n",
       "0              Hematopoiesis News   \n",
       "1                Michael Wang, MD   \n",
       "2                     1stOncology   \n",
       "3                       Toby Eyre   \n",
       "4                    Lymphoma Hub   \n",
       "5                    David Ledger   \n",
       "6            N Wales Cancer Forum   \n",
       "7  European Pharmaceutical Review   \n",
       "8                  Graham Collins   \n",
       "9                     CLL Ireland   \n",
       "\n",
       "                                          Clean_text  \n",
       "0  ⚕️ Scientists conducted a Phase II study of ac...  \n",
       "1  This phase  AcalabrutinibVenetoclax AV trial t...  \n",
       "2                                      backs   for    \n",
       "3   is a valuable option in pts intolerant to  Fu...  \n",
       "4  NICE has recommended the use of acalabrutinib ...  \n",
       "5       NICE backs AstraZeneca’s Calquence for CLL    \n",
       "6  This is England for now  these decisions usual...  \n",
       "7  AstraZeneca’s Calquence acalabrutinib a chemot...  \n",
       "8  Superstar  responding to the excellent news of...  \n",
       "9  CLL patients all know the drug Ibrutinib and y...  "
      ]
     },
     "execution_count": 25,
     "metadata": {},
     "output_type": "execute_result"
    }
   ],
   "source": [
    "tweet_df.head(10)"
   ]
  },
  {
   "cell_type": "code",
   "execution_count": 26,
   "id": "687bf53d",
   "metadata": {},
   "outputs": [
    {
     "name": "stdout",
     "output_type": "stream",
     "text": [
      "<class 'pandas.core.frame.DataFrame'>\n",
      "RangeIndex: 41818 entries, 0 to 41817\n",
      "Data columns (total 2 columns):\n",
      " #   Column        Non-Null Count  Dtype \n",
      "---  ------        --------------  ----- \n",
      " 0   tweet_author  41818 non-null  object\n",
      " 1   Clean_text    41818 non-null  object\n",
      "dtypes: object(2)\n",
      "memory usage: 653.5+ KB\n"
     ]
    }
   ],
   "source": [
    "tweet_df.info()"
   ]
  },
  {
   "cell_type": "markdown",
   "id": "d8610732",
   "metadata": {},
   "source": [
    "Everything looks good till now\n",
    "\n",
    "Since there not much options to explore our data or visualize it as there are just two columns we can move on towards extracting entities from our Tweets"
   ]
  },
  {
   "cell_type": "markdown",
   "id": "9397ac3e",
   "metadata": {},
   "source": [
    "## Extracting Entities using Spacy\n",
    "According to the examples given in the problem statement, what I figured out was that we have to consider Noun phrase as entities. I tried Named entity feature of spacy to extract entities but it most of the time missed entities which do not fall into it's predefined catagory. So after various experiment this is the following process I came up to extract entities with maximum efficiency."
   ]
  },
  {
   "cell_type": "code",
   "execution_count": 28,
   "id": "e462bff6",
   "metadata": {},
   "outputs": [],
   "source": [
    "### Using noun_chunk feature to extract all Noun phrase from the tweets\n",
    "NLP = spacy.load(\"en_core_web_sm\")\n",
    "\n",
    "def Noun_phrase_extraction(tweet):  \n",
    "    ### Converting tweet to an spacy object\n",
    "    doc = NLP(tweet)\n",
    "    np_list = []\n",
    "    for np in doc.noun_chunks:\n",
    "        ### Getting noun chunks from the text and appending it to the list of Noun phrases from the text\n",
    "        np_list.append(np.text)\n",
    "\n",
    "    return np_list\n"
   ]
  },
  {
   "cell_type": "code",
   "execution_count": 29,
   "id": "08001e5b",
   "metadata": {},
   "outputs": [],
   "source": [
    "### Applying the Noun_phrase_extraction function to clean text column and storing it as a new column\n",
    "tweet_df['Noun_phrase'] = tweet_df['Clean_text'].apply(Noun_phrase_extraction)"
   ]
  },
  {
   "cell_type": "code",
   "execution_count": 30,
   "id": "435c6c44",
   "metadata": {
    "scrolled": true
   },
   "outputs": [
    {
     "name": "stdout",
     "output_type": "stream",
     "text": [
      "<class 'pandas.core.frame.DataFrame'>\n",
      "RangeIndex: 41818 entries, 0 to 41817\n",
      "Data columns (total 3 columns):\n",
      " #   Column        Non-Null Count  Dtype \n",
      "---  ------        --------------  ----- \n",
      " 0   tweet_author  41818 non-null  object\n",
      " 1   Clean_text    41818 non-null  object\n",
      " 2   Noun_phrase   41818 non-null  object\n",
      "dtypes: object(3)\n",
      "memory usage: 980.2+ KB\n"
     ]
    }
   ],
   "source": [
    "tweet_df.info()"
   ]
  },
  {
   "cell_type": "code",
   "execution_count": 32,
   "id": "b54032ad",
   "metadata": {},
   "outputs": [
    {
     "data": {
      "text/plain": [
       "['⚕️ Scientists',\n",
       " 'a Phase II study',\n",
       " 'acalabrutinib',\n",
       " 'patients',\n",
       " 'relapsedrefractory',\n",
       " 'who',\n",
       " 'an overall response rate']"
      ]
     },
     "execution_count": 32,
     "metadata": {},
     "output_type": "execute_result"
    }
   ],
   "source": [
    "tweet_df['Noun_phrase'][0]"
   ]
  },
  {
   "cell_type": "code",
   "execution_count": 33,
   "id": "18366edf",
   "metadata": {},
   "outputs": [
    {
     "data": {
      "text/plain": [
       "['This phase',\n",
       " 'AcalabrutinibVenetoclax AV trial',\n",
       " 'recruitment phase',\n",
       " 'how well venetoclax and acalabrutinib works',\n",
       " 'MCL patients',\n",
       " 'who',\n",
       " 'the initial therapy']"
      ]
     },
     "execution_count": 33,
     "metadata": {},
     "output_type": "execute_result"
    }
   ],
   "source": [
    "tweet_df['Noun_phrase'][1]"
   ]
  },
  {
   "cell_type": "markdown",
   "id": "8ba3c0d3",
   "metadata": {},
   "source": [
    "We can see here that there our various noun phrase that we cannot consider as entities like \"who\",\"an overall response rate\",\"the initial therapy\" and so on. To remove words like \"Who\",\"a\",\"this\" etc we will remove the stop words out of the noun phrase. \n",
    "\n",
    "We did not remove the stop words earlier because it can affect the meaning and grammer of the sentance.\n",
    "\n",
    "And to remove sentances like initial therapy we need to remove the entities which contain words having dependancy as adjective modifier.I came accross which dependancy to remove by using spacy's part of speech and dependancy tagging feature. There is a possibility there are other dependancy that needs to be removed to improve the efficiancy of entities which I didn't figure out."
   ]
  },
  {
   "cell_type": "code",
   "execution_count": 36,
   "id": "306de8ea",
   "metadata": {},
   "outputs": [
    {
     "name": "stdout",
     "output_type": "stream",
     "text": [
      "the DET det\n",
      "initial ADJ amod\n",
      "therapy NOUN ROOT\n"
     ]
    }
   ],
   "source": [
    "raw_text = 'the initial therapy'\n",
    "text1= NLP(raw_text)\n",
    "\n",
    "for word in text1:\n",
    "    print(word.text,  word.pos_,word.dep_)\n"
   ]
  },
  {
   "cell_type": "code",
   "execution_count": 37,
   "id": "401b2f6a",
   "metadata": {},
   "outputs": [],
   "source": [
    "### Function to first remove stopwords out of Noun phrase and then check if it contains amod remove it entirely\n",
    "def parse_entity(np):\n",
    "    ent_list = []\n",
    "    for phrase in np:\n",
    "        doc_p = NLP(phrase)\n",
    "        s = ''\n",
    "        for token in doc_p:\n",
    "            if not token.is_stop:\n",
    "                s = ' '.join((s,token.text))\n",
    "        doc_et = NLP(s)  \n",
    "        for token in doc_et:\n",
    "            if token.dep_ == 'amod':\n",
    "                s = ''\n",
    "                break\n",
    "        if s == '':\n",
    "            break\n",
    "        ent_list.append(s)\n",
    "    return ent_list"
   ]
  },
  {
   "cell_type": "code",
   "execution_count": 38,
   "id": "7cea2790",
   "metadata": {},
   "outputs": [],
   "source": [
    "### Checking it on one list\n",
    "x = parse_entity(tweet_df['Noun_phrase'][0])"
   ]
  },
  {
   "cell_type": "code",
   "execution_count": 39,
   "id": "a283dbdc",
   "metadata": {},
   "outputs": [
    {
     "data": {
      "text/plain": [
       "[' ⚕ ️ Scientists',\n",
       " ' Phase II study',\n",
       " ' acalabrutinib',\n",
       " ' patients',\n",
       " ' relapsedrefractory']"
      ]
     },
     "execution_count": 39,
     "metadata": {},
     "output_type": "execute_result"
    }
   ],
   "source": [
    "x"
   ]
  },
  {
   "cell_type": "code",
   "execution_count": 40,
   "id": "7eaae885",
   "metadata": {},
   "outputs": [],
   "source": [
    "### Applying it to entire dataframe/Noun phrase column\n",
    "tweet_df['Entity_list'] = tweet_df['Noun_phrase'].apply(parse_entity)"
   ]
  },
  {
   "cell_type": "code",
   "execution_count": 41,
   "id": "cd1fd3bc",
   "metadata": {},
   "outputs": [
    {
     "data": {
      "text/html": [
       "<div>\n",
       "<style scoped>\n",
       "    .dataframe tbody tr th:only-of-type {\n",
       "        vertical-align: middle;\n",
       "    }\n",
       "\n",
       "    .dataframe tbody tr th {\n",
       "        vertical-align: top;\n",
       "    }\n",
       "\n",
       "    .dataframe thead th {\n",
       "        text-align: right;\n",
       "    }\n",
       "</style>\n",
       "<table border=\"1\" class=\"dataframe\">\n",
       "  <thead>\n",
       "    <tr style=\"text-align: right;\">\n",
       "      <th></th>\n",
       "      <th>tweet_author</th>\n",
       "      <th>Clean_text</th>\n",
       "      <th>Noun_phrase</th>\n",
       "      <th>Entity_list</th>\n",
       "    </tr>\n",
       "  </thead>\n",
       "  <tbody>\n",
       "    <tr>\n",
       "      <th>0</th>\n",
       "      <td>Hematopoiesis News</td>\n",
       "      <td>⚕️ Scientists conducted a Phase II study of ac...</td>\n",
       "      <td>[⚕️ Scientists, a Phase II study, acalabrutini...</td>\n",
       "      <td>[ ⚕ ️ Scientists,  Phase II study,  acalabruti...</td>\n",
       "    </tr>\n",
       "    <tr>\n",
       "      <th>1</th>\n",
       "      <td>Michael Wang, MD</td>\n",
       "      <td>This phase  AcalabrutinibVenetoclax AV trial t...</td>\n",
       "      <td>[This phase, AcalabrutinibVenetoclax AV trial,...</td>\n",
       "      <td>[ phase,  AcalabrutinibVenetoclax AV trial,  r...</td>\n",
       "    </tr>\n",
       "    <tr>\n",
       "      <th>2</th>\n",
       "      <td>1stOncology</td>\n",
       "      <td>backs   for</td>\n",
       "      <td>[ backs]</td>\n",
       "      <td>[   backs]</td>\n",
       "    </tr>\n",
       "    <tr>\n",
       "      <th>3</th>\n",
       "      <td>Toby Eyre</td>\n",
       "      <td>is a valuable option in pts intolerant to  Fu...</td>\n",
       "      <td>[a valuable option, Further valuable data, Ear...</td>\n",
       "      <td>[]</td>\n",
       "    </tr>\n",
       "    <tr>\n",
       "      <th>4</th>\n",
       "      <td>Lymphoma Hub</td>\n",
       "      <td>NICE has recommended the use of acalabrutinib ...</td>\n",
       "      <td>[NICE, the use, acalabrutinib, patients, treat...</td>\n",
       "      <td>[ NICE,  use,  acalabrutinib,  patients]</td>\n",
       "    </tr>\n",
       "  </tbody>\n",
       "</table>\n",
       "</div>"
      ],
      "text/plain": [
       "         tweet_author                                         Clean_text  \\\n",
       "0  Hematopoiesis News  ⚕️ Scientists conducted a Phase II study of ac...   \n",
       "1    Michael Wang, MD  This phase  AcalabrutinibVenetoclax AV trial t...   \n",
       "2         1stOncology                                      backs   for     \n",
       "3           Toby Eyre   is a valuable option in pts intolerant to  Fu...   \n",
       "4        Lymphoma Hub  NICE has recommended the use of acalabrutinib ...   \n",
       "\n",
       "                                         Noun_phrase  \\\n",
       "0  [⚕️ Scientists, a Phase II study, acalabrutini...   \n",
       "1  [This phase, AcalabrutinibVenetoclax AV trial,...   \n",
       "2                                           [ backs]   \n",
       "3  [a valuable option, Further valuable data, Ear...   \n",
       "4  [NICE, the use, acalabrutinib, patients, treat...   \n",
       "\n",
       "                                         Entity_list  \n",
       "0  [ ⚕ ️ Scientists,  Phase II study,  acalabruti...  \n",
       "1  [ phase,  AcalabrutinibVenetoclax AV trial,  r...  \n",
       "2                                         [   backs]  \n",
       "3                                                 []  \n",
       "4           [ NICE,  use,  acalabrutinib,  patients]  "
      ]
     },
     "execution_count": 41,
     "metadata": {},
     "output_type": "execute_result"
    }
   ],
   "source": [
    "tweet_df.head()"
   ]
  },
  {
   "cell_type": "code",
   "execution_count": 42,
   "id": "6cb1f3de",
   "metadata": {},
   "outputs": [
    {
     "name": "stdout",
     "output_type": "stream",
     "text": [
      "<class 'pandas.core.frame.DataFrame'>\n",
      "RangeIndex: 41818 entries, 0 to 41817\n",
      "Data columns (total 4 columns):\n",
      " #   Column        Non-Null Count  Dtype \n",
      "---  ------        --------------  ----- \n",
      " 0   tweet_author  41818 non-null  object\n",
      " 1   Clean_text    41818 non-null  object\n",
      " 2   Noun_phrase   41818 non-null  object\n",
      " 3   Entity_list   41818 non-null  object\n",
      "dtypes: object(4)\n",
      "memory usage: 1.3+ MB\n"
     ]
    }
   ],
   "source": [
    "tweet_df.info()"
   ]
  },
  {
   "cell_type": "code",
   "execution_count": 44,
   "id": "78736f31",
   "metadata": {},
   "outputs": [
    {
     "data": {
      "text/plain": [
       "[' phase',\n",
       " ' AcalabrutinibVenetoclax AV trial',\n",
       " ' recruitment phase',\n",
       " ' venetoclax acalabrutinib works',\n",
       " ' MCL patients']"
      ]
     },
     "execution_count": 44,
     "metadata": {},
     "output_type": "execute_result"
    }
   ],
   "source": [
    "tweet_df['Entity_list'][1]"
   ]
  },
  {
   "cell_type": "markdown",
   "id": "47f7d18a",
   "metadata": {},
   "source": [
    "**Note** There still are element in the list which we can remove like `phase`,`patients` given more resource or time to figure out the pattern"
   ]
  },
  {
   "cell_type": "markdown",
   "id": "aa7c11d0",
   "metadata": {},
   "source": [
    "## Objective 1\n",
    "Create a csv file which contains entities used by the authors in various tweets with their frequency.\n",
    "\n",
    "For doing this we will create a dictionary in which we will store all the entities as keys and their frequency as value. And then convert it into a dataframe which we can later store as csv file"
   ]
  },
  {
   "cell_type": "code",
   "execution_count": 45,
   "id": "47e6795f",
   "metadata": {},
   "outputs": [],
   "source": [
    "### Creating empty dictionary\n",
    "dictionary = {}"
   ]
  },
  {
   "cell_type": "code",
   "execution_count": 46,
   "id": "64ca1ed1",
   "metadata": {},
   "outputs": [],
   "source": [
    "### Creating function to store entity into a dictionary with frequency\n",
    "def count_entities(ent_list):\n",
    "    for ent in ent_list:\n",
    "        if ent in dictionary.keys():\n",
    "            dictionary[ent] += 1\n",
    "        else:\n",
    "            dictionary[ent] = 1\n",
    "    return dictionary"
   ]
  },
  {
   "cell_type": "code",
   "execution_count": 49,
   "id": "03894387",
   "metadata": {},
   "outputs": [],
   "source": [
    "### Applying the count_entities function to Entity_list\n",
    "tweet_df['Entity_list'].apply(count_entities);"
   ]
  },
  {
   "cell_type": "code",
   "execution_count": null,
   "id": "c222000b",
   "metadata": {},
   "outputs": [],
   "source": [
    "dictionary"
   ]
  },
  {
   "cell_type": "code",
   "execution_count": 148,
   "id": "3e04cf74",
   "metadata": {},
   "outputs": [],
   "source": [
    "list1 = list(dictionary)"
   ]
  },
  {
   "cell_type": "code",
   "execution_count": 50,
   "id": "291acdfd",
   "metadata": {},
   "outputs": [],
   "source": [
    "Obj1_df = pd.DataFrame([(i, j) for i, j in dictionary.items()], \n",
    "                   columns=['entity','frequency'])\n"
   ]
  },
  {
   "cell_type": "code",
   "execution_count": null,
   "id": "5557a954",
   "metadata": {},
   "outputs": [],
   "source": [
    "### We can sort our dataframe by frequency by using the following line of code\n",
    "\n",
    "# Obj1_df.sort_values(by ='frequency',ascending = True,ignore_index = True)"
   ]
  },
  {
   "cell_type": "code",
   "execution_count": 51,
   "id": "0d8cc981",
   "metadata": {
    "scrolled": true
   },
   "outputs": [
    {
     "data": {
      "text/html": [
       "<div>\n",
       "<style scoped>\n",
       "    .dataframe tbody tr th:only-of-type {\n",
       "        vertical-align: middle;\n",
       "    }\n",
       "\n",
       "    .dataframe tbody tr th {\n",
       "        vertical-align: top;\n",
       "    }\n",
       "\n",
       "    .dataframe thead th {\n",
       "        text-align: right;\n",
       "    }\n",
       "</style>\n",
       "<table border=\"1\" class=\"dataframe\">\n",
       "  <thead>\n",
       "    <tr style=\"text-align: right;\">\n",
       "      <th></th>\n",
       "      <th>entity</th>\n",
       "      <th>frequency</th>\n",
       "    </tr>\n",
       "  </thead>\n",
       "  <tbody>\n",
       "    <tr>\n",
       "      <th>0</th>\n",
       "      <td>⚕ ️ Scientists</td>\n",
       "      <td>2</td>\n",
       "    </tr>\n",
       "    <tr>\n",
       "      <th>1</th>\n",
       "      <td>Phase II study</td>\n",
       "      <td>2</td>\n",
       "    </tr>\n",
       "    <tr>\n",
       "      <th>2</th>\n",
       "      <td>acalabrutinib</td>\n",
       "      <td>536</td>\n",
       "    </tr>\n",
       "    <tr>\n",
       "      <th>3</th>\n",
       "      <td>patients</td>\n",
       "      <td>3766</td>\n",
       "    </tr>\n",
       "    <tr>\n",
       "      <th>4</th>\n",
       "      <td>relapsedrefractory</td>\n",
       "      <td>70</td>\n",
       "    </tr>\n",
       "    <tr>\n",
       "      <th>5</th>\n",
       "      <td>phase</td>\n",
       "      <td>312</td>\n",
       "    </tr>\n",
       "    <tr>\n",
       "      <th>6</th>\n",
       "      <td>AcalabrutinibVenetoclax AV trial</td>\n",
       "      <td>2</td>\n",
       "    </tr>\n",
       "    <tr>\n",
       "      <th>7</th>\n",
       "      <td>recruitment phase</td>\n",
       "      <td>2</td>\n",
       "    </tr>\n",
       "    <tr>\n",
       "      <th>8</th>\n",
       "      <td>venetoclax acalabrutinib works</td>\n",
       "      <td>2</td>\n",
       "    </tr>\n",
       "    <tr>\n",
       "      <th>9</th>\n",
       "      <td>MCL patients</td>\n",
       "      <td>8</td>\n",
       "    </tr>\n",
       "  </tbody>\n",
       "</table>\n",
       "</div>"
      ],
      "text/plain": [
       "                              entity  frequency\n",
       "0                     ⚕ ️ Scientists          2\n",
       "1                     Phase II study          2\n",
       "2                      acalabrutinib        536\n",
       "3                           patients       3766\n",
       "4                 relapsedrefractory         70\n",
       "5                              phase        312\n",
       "6   AcalabrutinibVenetoclax AV trial          2\n",
       "7                  recruitment phase          2\n",
       "8     venetoclax acalabrutinib works          2\n",
       "9                       MCL patients          8"
      ]
     },
     "execution_count": 51,
     "metadata": {},
     "output_type": "execute_result"
    }
   ],
   "source": [
    "Obj1_df.head(10)"
   ]
  },
  {
   "cell_type": "code",
   "execution_count": 54,
   "id": "54d7189b",
   "metadata": {},
   "outputs": [
    {
     "name": "stdout",
     "output_type": "stream",
     "text": [
      "<class 'pandas.core.frame.DataFrame'>\n",
      "RangeIndex: 30054 entries, 0 to 30053\n",
      "Data columns (total 2 columns):\n",
      " #   Column     Non-Null Count  Dtype \n",
      "---  ------     --------------  ----- \n",
      " 0   entity     30054 non-null  object\n",
      " 1   frequency  30054 non-null  int64 \n",
      "dtypes: int64(1), object(1)\n",
      "memory usage: 469.7+ KB\n"
     ]
    }
   ],
   "source": [
    "Obj1_df.info()"
   ]
  },
  {
   "cell_type": "markdown",
   "id": "a8fc650a",
   "metadata": {},
   "source": [
    "**We have 30054 entities in total**\n",
    "\n",
    "Now we have our dataframe as required and we can now store it as a csv file"
   ]
  },
  {
   "cell_type": "code",
   "execution_count": 53,
   "id": "119f8445",
   "metadata": {},
   "outputs": [],
   "source": [
    "Obj1_df.to_csv('objective1.csv',index=False)"
   ]
  },
  {
   "cell_type": "markdown",
   "id": "6a3c7323",
   "metadata": {},
   "source": [
    "## Objective 2\n",
    "Finding the polarity of each author towards an entity and then storing it in a csv\n",
    "\n",
    "For this we will again create a dictionary but a nested dictionary with keys equal to entity and inner dictionary having keys equal to author and value equal to frequency of entity used by that author"
   ]
  },
  {
   "cell_type": "code",
   "execution_count": 55,
   "id": "4213cf06",
   "metadata": {},
   "outputs": [],
   "source": [
    "### Creating a empty dictionary\n",
    "d2 = {}\n",
    "\n",
    "### Creating a function to rows passed as parameter\n",
    "def auth_ent_freq(value):\n",
    "    for ent in value.Entity_list:\n",
    "        if ent in d2.keys():\n",
    "            if value.tweet_author in d2[ent].keys():\n",
    "                d2[ent][value.tweet_author] += 1\n",
    "            else: \n",
    "                d2[ent][value.tweet_author] = 1\n",
    "        else:\n",
    "            d2[ent] = {value.tweet_author:1}\n",
    "    return d2"
   ]
  },
  {
   "cell_type": "code",
   "execution_count": 56,
   "id": "171841a3",
   "metadata": {},
   "outputs": [],
   "source": [
    "tweet_df[['tweet_author','Entity_list']].apply(auth_ent_freq,axis = 1);"
   ]
  },
  {
   "cell_type": "code",
   "execution_count": null,
   "id": "9342fd5f",
   "metadata": {},
   "outputs": [],
   "source": [
    "d2"
   ]
  },
  {
   "cell_type": "markdown",
   "id": "1c81121e",
   "metadata": {},
   "source": [
    "Now we can store our dictionary as dataframe but first for that we need to conver it in form of an array a list of list which contains entity author and frequency so that it can be stored in one row.\n",
    "\n",
    "list = [entity,author,frequency]"
   ]
  },
  {
   "cell_type": "code",
   "execution_count": 58,
   "id": "a8743e13",
   "metadata": {},
   "outputs": [],
   "source": [
    "ar = []\n",
    "for e,v in d2.items():\n",
    "    for a,f in v.items():\n",
    "        ls = [e,a,f]\n",
    "        ar.append(ls)"
   ]
  },
  {
   "cell_type": "code",
   "execution_count": 59,
   "id": "dfd641a8",
   "metadata": {},
   "outputs": [],
   "source": [
    "obj2_df = pd.DataFrame(ar,columns = [\"entity\",'author','Frequency'])"
   ]
  },
  {
   "cell_type": "code",
   "execution_count": 60,
   "id": "95c0e0b5",
   "metadata": {},
   "outputs": [
    {
     "data": {
      "text/html": [
       "<div>\n",
       "<style scoped>\n",
       "    .dataframe tbody tr th:only-of-type {\n",
       "        vertical-align: middle;\n",
       "    }\n",
       "\n",
       "    .dataframe tbody tr th {\n",
       "        vertical-align: top;\n",
       "    }\n",
       "\n",
       "    .dataframe thead th {\n",
       "        text-align: right;\n",
       "    }\n",
       "</style>\n",
       "<table border=\"1\" class=\"dataframe\">\n",
       "  <thead>\n",
       "    <tr style=\"text-align: right;\">\n",
       "      <th></th>\n",
       "      <th>entity</th>\n",
       "      <th>author</th>\n",
       "      <th>Frequency</th>\n",
       "    </tr>\n",
       "  </thead>\n",
       "  <tbody>\n",
       "    <tr>\n",
       "      <th>0</th>\n",
       "      <td>⚕ ️ Scientists</td>\n",
       "      <td>Hematopoiesis News</td>\n",
       "      <td>1</td>\n",
       "    </tr>\n",
       "    <tr>\n",
       "      <th>1</th>\n",
       "      <td>Phase II study</td>\n",
       "      <td>Hematopoiesis News</td>\n",
       "      <td>1</td>\n",
       "    </tr>\n",
       "    <tr>\n",
       "      <th>2</th>\n",
       "      <td>acalabrutinib</td>\n",
       "      <td>Hematopoiesis News</td>\n",
       "      <td>1</td>\n",
       "    </tr>\n",
       "    <tr>\n",
       "      <th>3</th>\n",
       "      <td>acalabrutinib</td>\n",
       "      <td>Lymphoma Hub</td>\n",
       "      <td>10</td>\n",
       "    </tr>\n",
       "    <tr>\n",
       "      <th>4</th>\n",
       "      <td>acalabrutinib</td>\n",
       "      <td>Helen Oram</td>\n",
       "      <td>1</td>\n",
       "    </tr>\n",
       "    <tr>\n",
       "      <th>5</th>\n",
       "      <td>acalabrutinib</td>\n",
       "      <td>Paperbirds_Hematology</td>\n",
       "      <td>4</td>\n",
       "    </tr>\n",
       "    <tr>\n",
       "      <th>6</th>\n",
       "      <td>acalabrutinib</td>\n",
       "      <td>Cardio-Targets</td>\n",
       "      <td>2</td>\n",
       "    </tr>\n",
       "    <tr>\n",
       "      <th>7</th>\n",
       "      <td>acalabrutinib</td>\n",
       "      <td>Lymphoma Papers</td>\n",
       "      <td>3</td>\n",
       "    </tr>\n",
       "    <tr>\n",
       "      <th>8</th>\n",
       "      <td>acalabrutinib</td>\n",
       "      <td>CancerNetwork®, Home of the Journal ONCOLOGY®</td>\n",
       "      <td>3</td>\n",
       "    </tr>\n",
       "    <tr>\n",
       "      <th>9</th>\n",
       "      <td>acalabrutinib</td>\n",
       "      <td>Medivizor</td>\n",
       "      <td>12</td>\n",
       "    </tr>\n",
       "  </tbody>\n",
       "</table>\n",
       "</div>"
      ],
      "text/plain": [
       "            entity                                         author  Frequency\n",
       "0   ⚕ ️ Scientists                             Hematopoiesis News          1\n",
       "1   Phase II study                             Hematopoiesis News          1\n",
       "2    acalabrutinib                             Hematopoiesis News          1\n",
       "3    acalabrutinib                                   Lymphoma Hub         10\n",
       "4    acalabrutinib                                     Helen Oram          1\n",
       "5    acalabrutinib                          Paperbirds_Hematology          4\n",
       "6    acalabrutinib                                 Cardio-Targets          2\n",
       "7    acalabrutinib                                Lymphoma Papers          3\n",
       "8    acalabrutinib  CancerNetwork®, Home of the Journal ONCOLOGY®          3\n",
       "9    acalabrutinib                                      Medivizor         12"
      ]
     },
     "execution_count": 60,
     "metadata": {},
     "output_type": "execute_result"
    }
   ],
   "source": [
    "obj2_df.head(10)"
   ]
  },
  {
   "cell_type": "markdown",
   "id": "8ca5b7f6",
   "metadata": {},
   "source": [
    "we have a dataframe where each attribute is stored with it's author and the frequency used by the author in one row"
   ]
  },
  {
   "cell_type": "code",
   "execution_count": 61,
   "id": "c354ae71",
   "metadata": {},
   "outputs": [
    {
     "name": "stdout",
     "output_type": "stream",
     "text": [
      "<class 'pandas.core.frame.DataFrame'>\n",
      "RangeIndex: 64541 entries, 0 to 64540\n",
      "Data columns (total 3 columns):\n",
      " #   Column     Non-Null Count  Dtype \n",
      "---  ------     --------------  ----- \n",
      " 0   entity     64541 non-null  object\n",
      " 1   author     64541 non-null  object\n",
      " 2   Frequency  64541 non-null  int64 \n",
      "dtypes: int64(1), object(2)\n",
      "memory usage: 1.5+ MB\n"
     ]
    }
   ],
   "source": [
    "obj2_df.info()"
   ]
  },
  {
   "cell_type": "code",
   "execution_count": 63,
   "id": "2c76f77a",
   "metadata": {},
   "outputs": [],
   "source": [
    "### Let's save a copy of dataframe before making any changes to original so that we can revert back if needed\n",
    "copy_df = obj2_df.copy()"
   ]
  },
  {
   "cell_type": "markdown",
   "id": "2761b261",
   "metadata": {},
   "source": [
    "### Polarity analysis based on frequency\n",
    "\n",
    "The main process to detect polarity begins now\n",
    "\n",
    "For detecting polarity of an author towards an entity we will compare each frequency with the mean of author's frequency. If an author uses an entity more than the mean value of him/her using other entity we would consider him/her biased towards that entity."
   ]
  },
  {
   "cell_type": "code",
   "execution_count": 65,
   "id": "82efa2da",
   "metadata": {},
   "outputs": [],
   "source": [
    "### Using lambda function to comapare each frequency to the mean of the group\n",
    "obj2_df['p1'] = obj2_df.groupby('author')['Frequency'].apply(lambda x: x >= x.mean())"
   ]
  },
  {
   "cell_type": "code",
   "execution_count": 66,
   "id": "c7626788",
   "metadata": {},
   "outputs": [
    {
     "data": {
      "text/html": [
       "<div>\n",
       "<style scoped>\n",
       "    .dataframe tbody tr th:only-of-type {\n",
       "        vertical-align: middle;\n",
       "    }\n",
       "\n",
       "    .dataframe tbody tr th {\n",
       "        vertical-align: top;\n",
       "    }\n",
       "\n",
       "    .dataframe thead th {\n",
       "        text-align: right;\n",
       "    }\n",
       "</style>\n",
       "<table border=\"1\" class=\"dataframe\">\n",
       "  <thead>\n",
       "    <tr style=\"text-align: right;\">\n",
       "      <th></th>\n",
       "      <th>entity</th>\n",
       "      <th>author</th>\n",
       "      <th>Frequency</th>\n",
       "      <th>p1</th>\n",
       "    </tr>\n",
       "  </thead>\n",
       "  <tbody>\n",
       "    <tr>\n",
       "      <th>0</th>\n",
       "      <td>⚕ ️ Scientists</td>\n",
       "      <td>Hematopoiesis News</td>\n",
       "      <td>1</td>\n",
       "      <td>False</td>\n",
       "    </tr>\n",
       "    <tr>\n",
       "      <th>1</th>\n",
       "      <td>Phase II study</td>\n",
       "      <td>Hematopoiesis News</td>\n",
       "      <td>1</td>\n",
       "      <td>False</td>\n",
       "    </tr>\n",
       "    <tr>\n",
       "      <th>2</th>\n",
       "      <td>acalabrutinib</td>\n",
       "      <td>Hematopoiesis News</td>\n",
       "      <td>1</td>\n",
       "      <td>False</td>\n",
       "    </tr>\n",
       "    <tr>\n",
       "      <th>3</th>\n",
       "      <td>acalabrutinib</td>\n",
       "      <td>Lymphoma Hub</td>\n",
       "      <td>10</td>\n",
       "      <td>True</td>\n",
       "    </tr>\n",
       "    <tr>\n",
       "      <th>4</th>\n",
       "      <td>acalabrutinib</td>\n",
       "      <td>Helen Oram</td>\n",
       "      <td>1</td>\n",
       "      <td>False</td>\n",
       "    </tr>\n",
       "  </tbody>\n",
       "</table>\n",
       "</div>"
      ],
      "text/plain": [
       "            entity              author  Frequency     p1\n",
       "0   ⚕ ️ Scientists  Hematopoiesis News          1  False\n",
       "1   Phase II study  Hematopoiesis News          1  False\n",
       "2    acalabrutinib  Hematopoiesis News          1  False\n",
       "3    acalabrutinib        Lymphoma Hub         10   True\n",
       "4    acalabrutinib          Helen Oram          1  False"
      ]
     },
     "execution_count": 66,
     "metadata": {},
     "output_type": "execute_result"
    }
   ],
   "source": [
    "obj2_df.head()"
   ]
  },
  {
   "cell_type": "markdown",
   "id": "e5978b2e",
   "metadata": {},
   "source": [
    "**The values stored in p1 column are in numpy boolean data type which cannot be evaluated using if else statement to store value as positive or negative so we need to convert them into python boolean**"
   ]
  },
  {
   "cell_type": "code",
   "execution_count": 68,
   "id": "819caee4",
   "metadata": {},
   "outputs": [],
   "source": [
    "obj2_df['p2'] = obj2_df['p1'].astype('bool')"
   ]
  },
  {
   "cell_type": "code",
   "execution_count": 69,
   "id": "4f852c64",
   "metadata": {},
   "outputs": [
    {
     "data": {
      "text/html": [
       "<div>\n",
       "<style scoped>\n",
       "    .dataframe tbody tr th:only-of-type {\n",
       "        vertical-align: middle;\n",
       "    }\n",
       "\n",
       "    .dataframe tbody tr th {\n",
       "        vertical-align: top;\n",
       "    }\n",
       "\n",
       "    .dataframe thead th {\n",
       "        text-align: right;\n",
       "    }\n",
       "</style>\n",
       "<table border=\"1\" class=\"dataframe\">\n",
       "  <thead>\n",
       "    <tr style=\"text-align: right;\">\n",
       "      <th></th>\n",
       "      <th>entity</th>\n",
       "      <th>author</th>\n",
       "      <th>Frequency</th>\n",
       "      <th>p1</th>\n",
       "      <th>p2</th>\n",
       "    </tr>\n",
       "  </thead>\n",
       "  <tbody>\n",
       "    <tr>\n",
       "      <th>0</th>\n",
       "      <td>⚕ ️ Scientists</td>\n",
       "      <td>Hematopoiesis News</td>\n",
       "      <td>1</td>\n",
       "      <td>False</td>\n",
       "      <td>False</td>\n",
       "    </tr>\n",
       "    <tr>\n",
       "      <th>1</th>\n",
       "      <td>Phase II study</td>\n",
       "      <td>Hematopoiesis News</td>\n",
       "      <td>1</td>\n",
       "      <td>False</td>\n",
       "      <td>False</td>\n",
       "    </tr>\n",
       "    <tr>\n",
       "      <th>2</th>\n",
       "      <td>acalabrutinib</td>\n",
       "      <td>Hematopoiesis News</td>\n",
       "      <td>1</td>\n",
       "      <td>False</td>\n",
       "      <td>False</td>\n",
       "    </tr>\n",
       "    <tr>\n",
       "      <th>3</th>\n",
       "      <td>acalabrutinib</td>\n",
       "      <td>Lymphoma Hub</td>\n",
       "      <td>10</td>\n",
       "      <td>True</td>\n",
       "      <td>True</td>\n",
       "    </tr>\n",
       "    <tr>\n",
       "      <th>4</th>\n",
       "      <td>acalabrutinib</td>\n",
       "      <td>Helen Oram</td>\n",
       "      <td>1</td>\n",
       "      <td>False</td>\n",
       "      <td>False</td>\n",
       "    </tr>\n",
       "  </tbody>\n",
       "</table>\n",
       "</div>"
      ],
      "text/plain": [
       "            entity              author  Frequency     p1     p2\n",
       "0   ⚕ ️ Scientists  Hematopoiesis News          1  False  False\n",
       "1   Phase II study  Hematopoiesis News          1  False  False\n",
       "2    acalabrutinib  Hematopoiesis News          1  False  False\n",
       "3    acalabrutinib        Lymphoma Hub         10   True   True\n",
       "4    acalabrutinib          Helen Oram          1  False  False"
      ]
     },
     "execution_count": 69,
     "metadata": {},
     "output_type": "execute_result"
    }
   ],
   "source": [
    "obj2_df.head()"
   ]
  },
  {
   "cell_type": "markdown",
   "id": "da429d3e",
   "metadata": {},
   "source": [
    "Now finally we can apply if else statement to convert true to positive and false to negative using thr function polarity_val"
   ]
  },
  {
   "cell_type": "code",
   "execution_count": 70,
   "id": "20339542",
   "metadata": {},
   "outputs": [],
   "source": [
    "def polarity_val(val):\n",
    "    if (val == True):\n",
    "        return \"Positive\"\n",
    "    else:\n",
    "        return \"Negative\""
   ]
  },
  {
   "cell_type": "code",
   "execution_count": 73,
   "id": "690bed13",
   "metadata": {},
   "outputs": [],
   "source": [
    "obj2_df['overall_polarity'] = obj2_df['p2'].apply(polarity_val)"
   ]
  },
  {
   "cell_type": "code",
   "execution_count": 76,
   "id": "b6b61f45",
   "metadata": {
    "collapsed": true,
    "jupyter": {
     "outputs_hidden": true
    }
   },
   "outputs": [
    {
     "data": {
      "text/html": [
       "<div>\n",
       "<style scoped>\n",
       "    .dataframe tbody tr th:only-of-type {\n",
       "        vertical-align: middle;\n",
       "    }\n",
       "\n",
       "    .dataframe tbody tr th {\n",
       "        vertical-align: top;\n",
       "    }\n",
       "\n",
       "    .dataframe thead th {\n",
       "        text-align: right;\n",
       "    }\n",
       "</style>\n",
       "<table border=\"1\" class=\"dataframe\">\n",
       "  <thead>\n",
       "    <tr style=\"text-align: right;\">\n",
       "      <th></th>\n",
       "      <th>entity</th>\n",
       "      <th>author</th>\n",
       "      <th>Frequency</th>\n",
       "      <th>p1</th>\n",
       "      <th>p2</th>\n",
       "      <th>overall_polarity</th>\n",
       "    </tr>\n",
       "  </thead>\n",
       "  <tbody>\n",
       "    <tr>\n",
       "      <th>0</th>\n",
       "      <td>⚕ ️ Scientists</td>\n",
       "      <td>Hematopoiesis News</td>\n",
       "      <td>1</td>\n",
       "      <td>False</td>\n",
       "      <td>False</td>\n",
       "      <td>Negative</td>\n",
       "    </tr>\n",
       "    <tr>\n",
       "      <th>1</th>\n",
       "      <td>Phase II study</td>\n",
       "      <td>Hematopoiesis News</td>\n",
       "      <td>1</td>\n",
       "      <td>False</td>\n",
       "      <td>False</td>\n",
       "      <td>Negative</td>\n",
       "    </tr>\n",
       "    <tr>\n",
       "      <th>2</th>\n",
       "      <td>acalabrutinib</td>\n",
       "      <td>Hematopoiesis News</td>\n",
       "      <td>1</td>\n",
       "      <td>False</td>\n",
       "      <td>False</td>\n",
       "      <td>Negative</td>\n",
       "    </tr>\n",
       "    <tr>\n",
       "      <th>3</th>\n",
       "      <td>acalabrutinib</td>\n",
       "      <td>Lymphoma Hub</td>\n",
       "      <td>10</td>\n",
       "      <td>True</td>\n",
       "      <td>True</td>\n",
       "      <td>Positive</td>\n",
       "    </tr>\n",
       "    <tr>\n",
       "      <th>4</th>\n",
       "      <td>acalabrutinib</td>\n",
       "      <td>Helen Oram</td>\n",
       "      <td>1</td>\n",
       "      <td>False</td>\n",
       "      <td>False</td>\n",
       "      <td>Negative</td>\n",
       "    </tr>\n",
       "    <tr>\n",
       "      <th>...</th>\n",
       "      <td>...</td>\n",
       "      <td>...</td>\n",
       "      <td>...</td>\n",
       "      <td>...</td>\n",
       "      <td>...</td>\n",
       "      <td>...</td>\n",
       "    </tr>\n",
       "    <tr>\n",
       "      <th>64536</th>\n",
       "      <td>follikuläres Lymphom belegt</td>\n",
       "      <td>IQWiG</td>\n",
       "      <td>1</td>\n",
       "      <td>True</td>\n",
       "      <td>True</td>\n",
       "      <td>Positive</td>\n",
       "    </tr>\n",
       "    <tr>\n",
       "      <th>64537</th>\n",
       "      <td>PTK EXPRESSION</td>\n",
       "      <td>Medibooks</td>\n",
       "      <td>1</td>\n",
       "      <td>False</td>\n",
       "      <td>False</td>\n",
       "      <td>Negative</td>\n",
       "    </tr>\n",
       "    <tr>\n",
       "      <th>64538</th>\n",
       "      <td>IMMUNOCHEMOTHERAPY</td>\n",
       "      <td>Medibooks</td>\n",
       "      <td>1</td>\n",
       "      <td>False</td>\n",
       "      <td>False</td>\n",
       "      <td>Negative</td>\n",
       "    </tr>\n",
       "    <tr>\n",
       "      <th>64539</th>\n",
       "      <td>OUTCOME</td>\n",
       "      <td>Medibooks</td>\n",
       "      <td>1</td>\n",
       "      <td>False</td>\n",
       "      <td>False</td>\n",
       "      <td>Negative</td>\n",
       "    </tr>\n",
       "    <tr>\n",
       "      <th>64540</th>\n",
       "      <td>ía MUTATIONS</td>\n",
       "      <td>Medibooks</td>\n",
       "      <td>1</td>\n",
       "      <td>False</td>\n",
       "      <td>False</td>\n",
       "      <td>Negative</td>\n",
       "    </tr>\n",
       "  </tbody>\n",
       "</table>\n",
       "<p>64541 rows × 6 columns</p>\n",
       "</div>"
      ],
      "text/plain": [
       "                             entity              author  Frequency     p1  \\\n",
       "0                    ⚕ ️ Scientists  Hematopoiesis News          1  False   \n",
       "1                    Phase II study  Hematopoiesis News          1  False   \n",
       "2                     acalabrutinib  Hematopoiesis News          1  False   \n",
       "3                     acalabrutinib        Lymphoma Hub         10   True   \n",
       "4                     acalabrutinib          Helen Oram          1  False   \n",
       "...                             ...                 ...        ...    ...   \n",
       "64536   follikuläres Lymphom belegt               IQWiG          1   True   \n",
       "64537                PTK EXPRESSION           Medibooks          1  False   \n",
       "64538            IMMUNOCHEMOTHERAPY           Medibooks          1  False   \n",
       "64539                       OUTCOME           Medibooks          1  False   \n",
       "64540                  ía MUTATIONS           Medibooks          1  False   \n",
       "\n",
       "          p2 overall_polarity  \n",
       "0      False         Negative  \n",
       "1      False         Negative  \n",
       "2      False         Negative  \n",
       "3       True         Positive  \n",
       "4      False         Negative  \n",
       "...      ...              ...  \n",
       "64536   True         Positive  \n",
       "64537  False         Negative  \n",
       "64538  False         Negative  \n",
       "64539  False         Negative  \n",
       "64540  False         Negative  \n",
       "\n",
       "[64541 rows x 6 columns]"
      ]
     },
     "execution_count": 76,
     "metadata": {},
     "output_type": "execute_result"
    }
   ],
   "source": [
    "obj2_df.head()"
   ]
  },
  {
   "cell_type": "markdown",
   "id": "81678e0c",
   "metadata": {},
   "source": [
    "now let's drop off the p1 and p2 and Frequency columns from the dataframe"
   ]
  },
  {
   "cell_type": "code",
   "execution_count": 80,
   "id": "2151d3c9",
   "metadata": {},
   "outputs": [],
   "source": [
    "obj2_df.drop('Frequency',axis = 1,inplace = True)"
   ]
  },
  {
   "cell_type": "code",
   "execution_count": 77,
   "id": "75e78e5f",
   "metadata": {},
   "outputs": [],
   "source": [
    "obj2_df.drop(['p1','p2','Frequency'],axis=1,inplace = True)"
   ]
  },
  {
   "cell_type": "code",
   "execution_count": 81,
   "id": "10ea3ec6",
   "metadata": {},
   "outputs": [
    {
     "data": {
      "text/html": [
       "<div>\n",
       "<style scoped>\n",
       "    .dataframe tbody tr th:only-of-type {\n",
       "        vertical-align: middle;\n",
       "    }\n",
       "\n",
       "    .dataframe tbody tr th {\n",
       "        vertical-align: top;\n",
       "    }\n",
       "\n",
       "    .dataframe thead th {\n",
       "        text-align: right;\n",
       "    }\n",
       "</style>\n",
       "<table border=\"1\" class=\"dataframe\">\n",
       "  <thead>\n",
       "    <tr style=\"text-align: right;\">\n",
       "      <th></th>\n",
       "      <th>entity</th>\n",
       "      <th>author</th>\n",
       "      <th>overall_polarity</th>\n",
       "    </tr>\n",
       "  </thead>\n",
       "  <tbody>\n",
       "    <tr>\n",
       "      <th>0</th>\n",
       "      <td>⚕ ️ Scientists</td>\n",
       "      <td>Hematopoiesis News</td>\n",
       "      <td>Negative</td>\n",
       "    </tr>\n",
       "    <tr>\n",
       "      <th>1</th>\n",
       "      <td>Phase II study</td>\n",
       "      <td>Hematopoiesis News</td>\n",
       "      <td>Negative</td>\n",
       "    </tr>\n",
       "    <tr>\n",
       "      <th>2</th>\n",
       "      <td>acalabrutinib</td>\n",
       "      <td>Hematopoiesis News</td>\n",
       "      <td>Negative</td>\n",
       "    </tr>\n",
       "    <tr>\n",
       "      <th>3</th>\n",
       "      <td>acalabrutinib</td>\n",
       "      <td>Lymphoma Hub</td>\n",
       "      <td>Positive</td>\n",
       "    </tr>\n",
       "    <tr>\n",
       "      <th>4</th>\n",
       "      <td>acalabrutinib</td>\n",
       "      <td>Helen Oram</td>\n",
       "      <td>Negative</td>\n",
       "    </tr>\n",
       "  </tbody>\n",
       "</table>\n",
       "</div>"
      ],
      "text/plain": [
       "            entity              author overall_polarity\n",
       "0   ⚕ ️ Scientists  Hematopoiesis News         Negative\n",
       "1   Phase II study  Hematopoiesis News         Negative\n",
       "2    acalabrutinib  Hematopoiesis News         Negative\n",
       "3    acalabrutinib        Lymphoma Hub         Positive\n",
       "4    acalabrutinib          Helen Oram         Negative"
      ]
     },
     "execution_count": 81,
     "metadata": {},
     "output_type": "execute_result"
    }
   ],
   "source": [
    "### check the head\n",
    "obj2_df.head()"
   ]
  },
  {
   "cell_type": "code",
   "execution_count": 82,
   "id": "1629d02c",
   "metadata": {},
   "outputs": [],
   "source": [
    "### Now let's save it to a csv\n",
    "obj2_df.to_csv('objective2.csv',index = False)"
   ]
  },
  {
   "cell_type": "markdown",
   "id": "da9c9d2a",
   "metadata": {},
   "source": [
    "I think there are resources and algorithms available to do this whole process of objective 2 in a more straight forward way with lesses number of steps.I was unable to figure out that process so used this basic approach to reach my goal. I went through lots of resources regarding sentiment analysis to figure out a way to do this task and it was difficult to wrap my head around the concept. \n",
    "\n",
    "Learning to use spacy and trying to figure out pattern to detect enities took a lot of time leaving little time to work on objective 2"
   ]
  },
  {
   "cell_type": "code",
   "execution_count": null,
   "id": "469a5e90",
   "metadata": {},
   "outputs": [],
   "source": []
  }
 ],
 "metadata": {
  "kernelspec": {
   "display_name": "Python 3 (ipykernel)",
   "language": "python",
   "name": "python3"
  },
  "language_info": {
   "codemirror_mode": {
    "name": "ipython",
    "version": 3
   },
   "file_extension": ".py",
   "mimetype": "text/x-python",
   "name": "python",
   "nbconvert_exporter": "python",
   "pygments_lexer": "ipython3",
   "version": "3.12.7"
  }
 },
 "nbformat": 4,
 "nbformat_minor": 5
}
